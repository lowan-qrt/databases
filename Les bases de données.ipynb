{
 "cells": [
  {
   "cell_type": "markdown",
   "metadata": {},
   "source": [
    "# Les bases de données"
   ]
  },
  {
   "cell_type": "markdown",
   "metadata": {},
   "source": [
    "## 1. Les SGBDR\n",
    "\n",
    "Les **SGBDR** ou *Systèmes de Gestion de Base de Données Relationnelles* sont des **logiciels**, serveurs réseaux pour la plupart, reposant sur le **modèle relationel** d'Edgar F. Codd (informaticien britannique) établi en 1970. Un SGBDR propose trois principales fonctions :\n",
    "\n",
    "- définir des données sous forme de relations\n",
    "- manipuler des données par un langage déclaratif\n",
    "- administrer des données"
   ]
  },
  {
   "cell_type": "markdown",
   "metadata": {
    "tags": [
     "parameters"
    ]
   },
   "source": [
    "## 2. Le Modèle Relationnel\n",
    "\n",
    "Le fonctionnement de certains SGBDR s'appuie ainsi sur le **modèle relationnel** établi par Edgar F. Codd en 1970, qui est une formalisation mathématique des données en **relation** similaires à celles rencontrées avec le format CSV (*Comma-separated values*).\n",
    "> Le principe fondamental du modèle relationnel repose sur l'organisation des données sous forme de **relations**, aussi appelées des tables. Chaque **relation** est composée d'**attributs** (colonnes) et de **tuples** ou **n-uplet** (lignes).\n",
    "\n",
    "### Remarque :\n",
    "Comme ce modèle se fonde sur la théorie des ensembles<sup>1</sup>, **il ne peut y avoir deux tuples identiques dans une relation**, et donc deux lignes identiques dans une table. Pas plus que d'ordre entre les tuples ou lignes.\n",
    "\n",
    "> *<sup>1</sup> Théorie des ensembles : La théorie des ensembles est une branche des mathématiques qui étudie les groupes d'objets en les considérant comme des ensembles distincts et explore les relations entre eux.*\n",
    "\n",
    "\n",
    "### Pour résumer :\n",
    "On a souvent distingué deux types de langage courant comme vous avez pu le remarquer : celui des informaticiens notamment enseigné scolairement (les données en table) et celui des mathématiciens (le modèle relationnel). Le modèle relationnel apporte une vision plus théorique de la **table**.\n",
    "\n",
    "| Données en table                                        | Modèle relationnel      |\n",
    "|---------------------------------------------------------|-------------------------|\n",
    "| *table*                                                 | *relation*              |\n",
    "| *colonne*/*champ* (titre)                               | *attribut*              |\n",
    "| *ligne*/*enregistrement*                                | *tuple*/*n-uplet*       |\n",
    "| *valeurs autorisées dans une colonne* (type spécialisé) | *domaine d'un attribut* |\n",
    "\n",
    "### Exemple :\n",
    "Voici un exemple de la **relation** *Ouvrage* représentant des ouvrages de bibliothèque :\n",
    "\n",
    "| Numéro | Titre                                    | Parution | Auteur              | Naissance | Mort  |\n",
    "|--------|------------------------------------------|----------|---------------------|-----------|-------|\n",
    "| 142    | Le Dernier Jour d'un condamné            | 1829     | Victor Hugo         | 1802      | 1885  |\n",
    "| 241    | Voyage au centre de la Terre             | 1864     | Jules Verne         | 1828      | 1905  |\n",
    "| 323    | Les Petites Filles modèles               | 1858     | Comtesse de Ségur   | 1799      | 1874  |\n",
    "| 358    | Les Misérables                           | 1862     | Victor Hugo         | 1802      | 1885  |\n",
    "| 419    | Les Malheurs de Sophie                   | 1858     | Comtesse de Ségur   | 1799      | 1874  |\n",
    "| 492    | Le Tour du monde en quatre-vingts jours  | 1872     | Jules Verne         | 1828      | 1905  |\n",
    "| 677    | Mémoires d'un âne                        | 1860     | Comtesse de Ségur   | 1799      | 1874  |\n",
    "| 760    | Vingt mille lieues sous les mers         | 1869     | Jules Verne         | 1828      | 1905  |\n",
    "| 806    | Notre-Dame de Paris                      | 1831     | Victor Hugo         | 1802      | 1885  |\n",
    "| 815    | De la Terre à la Lune                    | 1865     | Jules Verne         | 1828      | 1905  |\n",
    "\n",
    "Cette **relation** *Ouvrage* est composée de 6 **attributs** (nom des colonnes) et chacun d'entre eux possèdent un **domaine d'attribut** spécifiant les valeurs autorisées pour les valeurs des tuples créés. Ainsi, on retrouve les 6 **attributs** et leur **domaine** respectif :\n",
    "\n",
    "- *Numéro* est un __entier__\n",
    "- *Titre* est un __texte__  (une chaîne de caractères plus ou moins longue)\n",
    "- *Parution* est une __année__\n",
    "- *Auteur* est une __chaîne de caractères__ (de taille limitée par exemple à 128)\n",
    "- *Naissance* est une __année__\n",
    "- *Mort* est une __année__"
   ]
  },
  {
   "cell_type": "markdown",
   "metadata": {},
   "source": [
    "## 3. Conception d'une base de donnée\n",
    "\n",
    "On pourra remarqué que la relation *Ouvrage* plusieurs oeuvres parfois d'un même auteur. Cette redondance d'informations occupe inutilement de la place en mémoire (RAM et disque). Nous pourrions alors arranger cela de telle sorte à créer une nouvelle relation regroupant les auteurs et l'autre, les ouvrages. Cela permettrait une meilleure organisation et manipulation des données.\n",
    "\n",
    "Voici ce que l'on obtiens en divisant la relation :\n",
    "\n",
    "- la relation *Auteur*\n",
    "\n",
    "| Id_auteur | Nom               | Naissance | Mort |\n",
    "|-----------|-------------------|-----------|------|\n",
    "|     75    | Victor Hugo       | 1802      | 1885 |\n",
    "|     81    | Jules Verne       | 1828      | 1905 |\n",
    "|     63    | Comtesse de Ségur | 1799      | 1874 |\n",
    "\n",
    "On rassemble les informations sur les auteurs en créant une table dédiée dans laquelle chaque auteur est identifié par un nombre entier id_auteur appelé clé primaire.\n",
    "\n",
    "- la relation *Ouvrage*\n",
    "\n",
    "| Numero | Titre                                   | Parution | Id_auteur | \n",
    "|--------|-----------------------------------------|----------|-----------|\n",
    "|  142   | Le Dernier Jour d'un condamné           | 1829     | 75        |\n",
    "|  241   | Voyage au centre de la Terre            | 1864     | 81        |\n",
    "|  323   | Les Petites Filles modèles              | 1858     | 63        |\n",
    "|  358   | Les Misérables                          | 1862     | 75        |\n",
    "|  419   | Les Malheurs de Sophie                  | 1858     | 63        |\n",
    "|  492   | Le Tour du monde en quatre-vingts jours | 1872     | 81        |\n",
    "|  677   | Mémoires d'un âne                       | 1860     | 63        |\n",
    "|  760   | Vingt mille lieues sous les mers        | 1869     | 81        |\n",
    "|  806   | Notre-Dame de Paris                     | 1831     | 75        |\n",
    "|  815   | De la Terre à la Lune                   | 1865     | 81        |\n",
    "\n",
    "Dans la table des ouvrages on remplace les triplets (auteur, naissance, mort) par la clé d'identification de l'auteur définie dans la table des auteurs. La Clé id_auteur est qualifiée de clé étrangère car elle se réfère à la clé primaire id_auteur de la table des auteurs."
   ]
  }
 ],
 "metadata": {
  "kernelspec": {
   "display_name": "Python 3",
   "language": "python",
   "name": "python3"
  },
  "language_info": {
   "name": "python",
   "version": "3.12.0"
  }
 },
 "nbformat": 4,
 "nbformat_minor": 2
}
